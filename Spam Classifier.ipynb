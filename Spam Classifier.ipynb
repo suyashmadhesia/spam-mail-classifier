{
 "cells": [
  {
   "cell_type": "code",
   "execution_count": 1,
   "id": "df880d6d",
   "metadata": {},
   "outputs": [],
   "source": [
    "from os import walk\n",
    "from os.path import join\n",
    "\n",
    "import pandas as pd\n",
    "import matplotlib.pyplot as plt\n",
    "\n",
    "import nltk\n",
    "from nltk.stem import PorterStemmer, SnowballStemmer\n",
    "from nltk.corpus import stopwords\n",
    "from nltk.tokenize import word_tokenize\n",
    "\n",
    "from bs4 import BeautifulSoup\n",
    "from wordcloud import WordCloud\n",
    "from PIL import Image\n",
    "import numpy as np\n",
    "\n",
    "from sklearn.model_selection import train_test_split\n",
    "\n",
    "%matplotlib inline"
   ]
  },
  {
   "cell_type": "code",
   "execution_count": 2,
   "id": "da53056a",
   "metadata": {},
   "outputs": [],
   "source": [
    "EXAMPLE_FILE = 'SpamData/01_Processing/practice_email.txt'\n",
    "\n",
    "SPAM_1_PATH = 'SpamData/01_Processing/spam_assassin_corpus/spam_1'\n",
    "SPAM_2_PATH = 'SpamData/01_Processing/spam_assassin_corpus/spam_2'\n",
    "EASY_NONSPAM_1_PATH = 'SpamData/01_Processing/spam_assassin_corpus/easy_ham_1'\n",
    "EASY_NONSPAM_2_PATH = 'SpamData/01_Processing/spam_assassin_corpus/easy_ham_2'\n",
    "\n",
    "SPAM_CAT = 1\n",
    "HAM_CAT = 0\n",
    "VOCAB_SIZE = 2500\n",
    "\n",
    "DATA_JSON_FILE = 'SpamData/01_Processing/email-text-data.json'\n",
    "WORD_ID_FILE = 'SpamData/01_Processing/word-by-id.csv'\n",
    "\n",
    "TRAINING_DATA_FILE = 'SpamData/02_Training/train-data.txt'\n",
    "TEST_DATA_FILE = 'SpamData/02_Training/test-data.txt'\n",
    "\n",
    "WHALE_FILE = 'SpamData/01_Processing/wordcloud_resources/whale-icon.png'\n",
    "SKULL_FILE = 'SpamData/01_Processing/wordcloud_resources/skull-icon.png'\n",
    "THUMBS_UP_FILE = 'SpamData/01_Processing/wordcloud_resources/thumbs-up.png'\n",
    "THUMBS_DOWN_FILE = 'SpamData/01_Processing/wordcloud_resources/thumbs-down.png'\n",
    "CUSTOM_FONT_FILE = 'SpamData/01_Processing/wordcloud_resources/OpenSansCondensed-Bold.ttf'"
   ]
  },
  {
   "cell_type": "markdown",
   "id": "cc4bb1f4",
   "metadata": {},
   "source": [
    "# Reading Files Using Stream"
   ]
  },
  {
   "cell_type": "code",
   "execution_count": 3,
   "id": "1c34734f",
   "metadata": {},
   "outputs": [
    {
     "name": "stdout",
     "output_type": "stream",
     "text": [
      "<class 'str'>\n",
      "From exmh-workers-admin@redhat.com  Thu Aug 22 12:36:23 2002\n",
      "Return-Path: <exmh-workers-admin@spamassassin.taint.org>\n",
      "Delivered-To: zzzz@localhost.netnoteinc.com\n",
      "Received: from localhost (localhost [127.0.0.1])\n",
      "\tby phobos.labs.netnoteinc.com (Postfix) with ESMTP id D03E543C36\n",
      "\tfor <zzzz@localhost>; Thu, 22 Aug 2002 07:36:16 -0400 (EDT)\n",
      "Received: from phobos [127.0.0.1]\n",
      "\tby localhost with IMAP (fetchmail-5.9.0)\n",
      "\tfor zzzz@localhost (single-drop); Thu, 22 Aug 2002 12:36:16 +0100 (IST)\n",
      "Received: from listman.spamassassin.taint.org (listman.spamassassin.taint.org [66.187.233.211]) by\n",
      "    dogma.slashnull.org (8.11.6/8.11.6) with ESMTP id g7MBYrZ04811 for\n",
      "    <zzzz-exmh@spamassassin.taint.org>; Thu, 22 Aug 2002 12:34:53 +0100\n",
      "Received: from listman.spamassassin.taint.org (localhost.localdomain [127.0.0.1]) by\n",
      "    listman.redhat.com (Postfix) with ESMTP id 8386540858; Thu, 22 Aug 2002\n",
      "    07:35:02 -0400 (EDT)\n",
      "Delivered-To: exmh-workers@listman.spamassassin.taint.org\n",
      "Received: from int-mx1.corp.spamassassin.taint.org (int-mx1.corp.spamassassin.taint.org\n",
      "    [172.16.52.254]) by listman.redhat.com (Postfix) with ESMTP id 10CF8406D7\n",
      "    for <exmh-workers@listman.redhat.com>; Thu, 22 Aug 2002 07:34:10 -0400\n",
      "    (EDT)\n",
      "Received: (from mail@localhost) by int-mx1.corp.spamassassin.taint.org (8.11.6/8.11.6)\n",
      "    id g7MBY7g11259 for exmh-workers@listman.redhat.com; Thu, 22 Aug 2002\n",
      "    07:34:07 -0400\n",
      "Received: from mx1.spamassassin.taint.org (mx1.spamassassin.taint.org [172.16.48.31]) by\n",
      "    int-mx1.corp.redhat.com (8.11.6/8.11.6) with SMTP id g7MBY7Y11255 for\n",
      "    <exmh-workers@redhat.com>; Thu, 22 Aug 2002 07:34:07 -0400\n",
      "Received: from ratree.psu.ac.th ([202.28.97.6]) by mx1.spamassassin.taint.org\n",
      "    (8.11.6/8.11.6) with SMTP id g7MBIhl25223 for <exmh-workers@redhat.com>;\n",
      "    Thu, 22 Aug 2002 07:18:55 -0400\n",
      "Received: from delta.cs.mu.OZ.AU (delta.coe.psu.ac.th [172.30.0.98]) by\n",
      "    ratree.psu.ac.th (8.11.6/8.11.6) with ESMTP id g7MBWel29762;\n",
      "    Thu, 22 Aug 2002 18:32:40 +0700 (ICT)\n",
      "Received: from munnari.OZ.AU (localhost [127.0.0.1]) by delta.cs.mu.OZ.AU\n",
      "    (8.11.6/8.11.6) with ESMTP id g7MBQPW13260; Thu, 22 Aug 2002 18:26:25\n",
      "    +0700 (ICT)\n",
      "From: Robert Elz <kre@munnari.OZ.AU>\n",
      "To: Chris Garrigues <cwg-dated-1030377287.06fa6d@DeepEddy.Com>\n",
      "Cc: exmh-workers@spamassassin.taint.org\n",
      "Subject: Re: New Sequences Window\n",
      "In-Reply-To: <1029945287.4797.TMDA@deepeddy.vircio.com>\n",
      "References: <1029945287.4797.TMDA@deepeddy.vircio.com>\n",
      "    <1029882468.3116.TMDA@deepeddy.vircio.com> <9627.1029933001@munnari.OZ.AU>\n",
      "    <1029943066.26919.TMDA@deepeddy.vircio.com>\n",
      "    <1029944441.398.TMDA@deepeddy.vircio.com>\n",
      "MIME-Version: 1.0\n",
      "Content-Type: text/plain; charset=us-ascii\n",
      "Message-Id: <13258.1030015585@munnari.OZ.AU>\n",
      "X-Loop: exmh-workers@spamassassin.taint.org\n",
      "Sender: exmh-workers-admin@spamassassin.taint.org\n",
      "Errors-To: exmh-workers-admin@spamassassin.taint.org\n",
      "X-Beenthere: exmh-workers@spamassassin.taint.org\n",
      "X-Mailman-Version: 2.0.1\n",
      "Precedence: bulk\n",
      "List-Help: <mailto:exmh-workers-request@spamassassin.taint.org?subject=help>\n",
      "List-Post: <mailto:exmh-workers@spamassassin.taint.org>\n",
      "List-Subscribe: <https://listman.spamassassin.taint.org/mailman/listinfo/exmh-workers>,\n",
      "    <mailto:exmh-workers-request@redhat.com?subject=subscribe>\n",
      "List-Id: Discussion list for EXMH developers <exmh-workers.spamassassin.taint.org>\n",
      "List-Unsubscribe: <https://listman.spamassassin.taint.org/mailman/listinfo/exmh-workers>,\n",
      "    <mailto:exmh-workers-request@redhat.com?subject=unsubscribe>\n",
      "List-Archive: <https://listman.spamassassin.taint.org/mailman/private/exmh-workers/>\n",
      "Date: Thu, 22 Aug 2002 18:26:25 +0700\n",
      "\n",
      "\n",
      "Dear Mr Still\n",
      "\n",
      "Good tidings to you and all your staff for the festive season ahead (Christmas).\n",
      "Now to the crux of the matter-in-hand: I am a fully qualified Santa Claus and am wondering whether you might consider me to run my own \"Santa's Grotto\" in your store.\n",
      "But WAIT! You're probably thinking: \"What makes him so special?\"\n",
      "Well, first of all, I have made several changes to the characterisation of Father Christmas. Rather than greeting the children with shouts of \"Ho, ho, ho!\" I prefer to whisper the phrase \"Dependence is not unfathomable in this cruel world we live in\". In addition, my gifts are ALL hand-made, ranging from felt hoops to vanilla-pod holders.\n",
      "You will note also, from the enclosed sketch, that I have radically redesigned Santa's outfit and have renamed my character \"Lord Buckles\". Would you be interested in employing me? I promise NEVER to let you down.\n",
      "I look forward to hearing from you.\n",
      "\n",
      "Best wishes\n",
      "Robin Cooper\n",
      "[Excerpt from the book: The Timewaster Letters by Robin Cooper]\n",
      "\n"
     ]
    }
   ],
   "source": [
    "stream = open(EXAMPLE_FILE, encoding='latin-1')\n",
    "message = stream.read()\n",
    "stream.close()\n",
    "\n",
    "print(type(message))\n",
    "print(message)"
   ]
  },
  {
   "cell_type": "code",
   "execution_count": 4,
   "id": "4aaef461",
   "metadata": {},
   "outputs": [
    {
     "name": "stdout",
     "output_type": "stream",
     "text": [
      "\n",
      "\n",
      "Dear Mr Still\n",
      "\n",
      "\n",
      "\n",
      "Good tidings to you and all your staff for the festive season ahead (Christmas).\n",
      "\n",
      "Now to the crux of the matter-in-hand: I am a fully qualified Santa Claus and am wondering whether you might consider me to run my own \"Santa's Grotto\" in your store.\n",
      "\n",
      "But WAIT! You're probably thinking: \"What makes him so special?\"\n",
      "\n",
      "Well, first of all, I have made several changes to the characterisation of Father Christmas. Rather than greeting the children with shouts of \"Ho, ho, ho!\" I prefer to whisper the phrase \"Dependence is not unfathomable in this cruel world we live in\". In addition, my gifts are ALL hand-made, ranging from felt hoops to vanilla-pod holders.\n",
      "\n",
      "You will note also, from the enclosed sketch, that I have radically redesigned Santa's outfit and have renamed my character \"Lord Buckles\". Would you be interested in employing me? I promise NEVER to let you down.\n",
      "\n",
      "I look forward to hearing from you.\n",
      "\n",
      "\n",
      "\n",
      "Best wishes\n",
      "\n",
      "Robin Cooper\n",
      "\n",
      "[Excerpt from the book: The Timewaster Letters by Robin Cooper]\n",
      "\n"
     ]
    }
   ],
   "source": [
    "stream = open(EXAMPLE_FILE, encoding='latin-1')\n",
    "\n",
    "is_body = False\n",
    "lines = []\n",
    "\n",
    "for line in stream:\n",
    "    if is_body:\n",
    "        lines.append(line)\n",
    "    elif line == '\\n':\n",
    "        is_body = True\n",
    "\n",
    "stream.close()\n",
    "\n",
    "email_body = '\\n'.join(lines)\n",
    "print(email_body)"
   ]
  },
  {
   "cell_type": "markdown",
   "id": "9e26f7ec",
   "metadata": {},
   "source": [
    "## Email body extraction"
   ]
  },
  {
   "cell_type": "code",
   "execution_count": 5,
   "id": "8e977ab7",
   "metadata": {},
   "outputs": [],
   "source": [
    "def email_body_generator(path):\n",
    "    \n",
    "    for root, dirnames, filenames in walk(path):\n",
    "        for file_name in filenames:\n",
    "            \n",
    "            filepath = join(root, file_name)\n",
    "            \n",
    "            stream = open(filepath, encoding='latin-1')\n",
    "\n",
    "            is_body = False\n",
    "            lines = []\n",
    "\n",
    "            for line in stream:\n",
    "                if is_body:\n",
    "                    lines.append(line)\n",
    "                elif line == '\\n':\n",
    "                    is_body = True\n",
    "\n",
    "            stream.close()\n",
    "\n",
    "            email_body = '\\n'.join(lines)\n",
    "            \n",
    "            yield file_name, email_body"
   ]
  },
  {
   "cell_type": "code",
   "execution_count": 6,
   "id": "6da91462",
   "metadata": {},
   "outputs": [],
   "source": [
    "def df_from_directory(path, classification):\n",
    "    rows = []\n",
    "    row_names = []\n",
    "    \n",
    "    for file_name, email_body in email_body_generator(path):\n",
    "        rows.append({'MESSAGE': email_body, 'CATEGORY': classification})\n",
    "        row_names.append(file_name)\n",
    "        \n",
    "    return pd.DataFrame(rows, index=row_names)"
   ]
  },
  {
   "cell_type": "code",
   "execution_count": 7,
   "id": "373df69c",
   "metadata": {},
   "outputs": [
    {
     "data": {
      "text/html": [
       "<div>\n",
       "<style scoped>\n",
       "    .dataframe tbody tr th:only-of-type {\n",
       "        vertical-align: middle;\n",
       "    }\n",
       "\n",
       "    .dataframe tbody tr th {\n",
       "        vertical-align: top;\n",
       "    }\n",
       "\n",
       "    .dataframe thead th {\n",
       "        text-align: right;\n",
       "    }\n",
       "</style>\n",
       "<table border=\"1\" class=\"dataframe\">\n",
       "  <thead>\n",
       "    <tr style=\"text-align: right;\">\n",
       "      <th></th>\n",
       "      <th>MESSAGE</th>\n",
       "      <th>CATEGORY</th>\n",
       "    </tr>\n",
       "  </thead>\n",
       "  <tbody>\n",
       "    <tr>\n",
       "      <th>00422.7d5baf3fe64de8647b41aeb820ada876</th>\n",
       "      <td>Hello\\n\\n\\n\\nYou may have seen this business b...</td>\n",
       "      <td>1</td>\n",
       "    </tr>\n",
       "    <tr>\n",
       "      <th>00432.40ceb2dcb26e292ea6fd8669dfc9b4c5</th>\n",
       "      <td>FROM: KONE BAKAR\\n\\nTEL: (+225) 0771 1719.  \\n...</td>\n",
       "      <td>1</td>\n",
       "    </tr>\n",
       "    <tr>\n",
       "      <th>00253.83b95b05e275286eddcf557ea581e754</th>\n",
       "      <td>There is NO stumbling on to it! \\n\\n\\n\\nThe gr...</td>\n",
       "      <td>1</td>\n",
       "    </tr>\n",
       "    <tr>\n",
       "      <th>00454.1bb460b3ade9801644e4eb60e18d1f8d</th>\n",
       "      <td>This is a multi-part message in MIME format.\\n...</td>\n",
       "      <td>1</td>\n",
       "    </tr>\n",
       "    <tr>\n",
       "      <th>00021.effe1449462a9d7ad7af0f1c94b1a237</th>\n",
       "      <td>CENTRAL BANK OF NIGERIA\\n\\nFOREIGN REMITTANCE ...</td>\n",
       "      <td>1</td>\n",
       "    </tr>\n",
       "  </tbody>\n",
       "</table>\n",
       "</div>"
      ],
      "text/plain": [
       "                                                                                  MESSAGE  \\\n",
       "00422.7d5baf3fe64de8647b41aeb820ada876  Hello\\n\\n\\n\\nYou may have seen this business b...   \n",
       "00432.40ceb2dcb26e292ea6fd8669dfc9b4c5  FROM: KONE BAKAR\\n\\nTEL: (+225) 0771 1719.  \\n...   \n",
       "00253.83b95b05e275286eddcf557ea581e754  There is NO stumbling on to it! \\n\\n\\n\\nThe gr...   \n",
       "00454.1bb460b3ade9801644e4eb60e18d1f8d  This is a multi-part message in MIME format.\\n...   \n",
       "00021.effe1449462a9d7ad7af0f1c94b1a237  CENTRAL BANK OF NIGERIA\\n\\nFOREIGN REMITTANCE ...   \n",
       "\n",
       "                                        CATEGORY  \n",
       "00422.7d5baf3fe64de8647b41aeb820ada876         1  \n",
       "00432.40ceb2dcb26e292ea6fd8669dfc9b4c5         1  \n",
       "00253.83b95b05e275286eddcf557ea581e754         1  \n",
       "00454.1bb460b3ade9801644e4eb60e18d1f8d         1  \n",
       "00021.effe1449462a9d7ad7af0f1c94b1a237         1  "
      ]
     },
     "execution_count": 7,
     "metadata": {},
     "output_type": "execute_result"
    }
   ],
   "source": [
    "spam_emails = df_from_directory(SPAM_1_PATH, 1)\n",
    "spam_emails = spam_emails.append(df_from_directory(SPAM_2_PATH, 1))\n",
    "spam_emails.head()"
   ]
  },
  {
   "cell_type": "code",
   "execution_count": 8,
   "id": "49efea0b",
   "metadata": {},
   "outputs": [
    {
     "data": {
      "text/plain": [
       "(3901, 2)"
      ]
     },
     "execution_count": 8,
     "metadata": {},
     "output_type": "execute_result"
    }
   ],
   "source": [
    "ham_emails = df_from_directory(EASY_NONSPAM_1_PATH, HAM_CAT)\n",
    "ham_emails = ham_emails.append(df_from_directory(EASY_NONSPAM_2_PATH, HAM_CAT))\n",
    "ham_emails.shape"
   ]
  },
  {
   "cell_type": "code",
   "execution_count": 9,
   "id": "f4b091b6",
   "metadata": {},
   "outputs": [
    {
     "data": {
      "text/plain": [
       "(5799, 2)"
      ]
     },
     "execution_count": 9,
     "metadata": {},
     "output_type": "execute_result"
    }
   ],
   "source": [
    "data = pd.concat([spam_emails, ham_emails])\n",
    "data.shape"
   ]
  },
  {
   "cell_type": "markdown",
   "id": "1c916a49",
   "metadata": {},
   "source": [
    "## Cleaning the data and filling the missing values"
   ]
  },
  {
   "cell_type": "code",
   "execution_count": 10,
   "id": "0c10d96e",
   "metadata": {},
   "outputs": [
    {
     "data": {
      "text/plain": [
       "Index(['cmds', 'cmds', 'cmds'], dtype='object')"
      ]
     },
     "execution_count": 10,
     "metadata": {},
     "output_type": "execute_result"
    }
   ],
   "source": [
    "data[data.MESSAGE.str.len() == 0].index"
   ]
  },
  {
   "cell_type": "code",
   "execution_count": 12,
   "id": "f82b2381",
   "metadata": {},
   "outputs": [
    {
     "data": {
      "text/html": [
       "<div>\n",
       "<style scoped>\n",
       "    .dataframe tbody tr th:only-of-type {\n",
       "        vertical-align: middle;\n",
       "    }\n",
       "\n",
       "    .dataframe tbody tr th {\n",
       "        vertical-align: top;\n",
       "    }\n",
       "\n",
       "    .dataframe thead th {\n",
       "        text-align: right;\n",
       "    }\n",
       "</style>\n",
       "<table border=\"1\" class=\"dataframe\">\n",
       "  <thead>\n",
       "    <tr style=\"text-align: right;\">\n",
       "      <th></th>\n",
       "      <th>MESSAGE</th>\n",
       "      <th>CATEGORY</th>\n",
       "    </tr>\n",
       "  </thead>\n",
       "  <tbody>\n",
       "    <tr>\n",
       "      <th>01139.7d9591cdfb9b77906c4bbb7373cac8c5</th>\n",
       "      <td>Once upon a time, Brian wrote :\\n\\n\\n\\n&gt;     A...</td>\n",
       "      <td>0</td>\n",
       "    </tr>\n",
       "    <tr>\n",
       "      <th>00350.e738a16c1483dfda97d5862b4a9a77f8</th>\n",
       "      <td>\\n\\n\"John P. Looney\" &lt;valen@tuatha.org&gt; a écri...</td>\n",
       "      <td>0</td>\n",
       "    </tr>\n",
       "    <tr>\n",
       "      <th>00478.e7beb5a43fcf1ac2a87b4ce4fdcd9b32</th>\n",
       "      <td>I missed this previously, but\\n\\nthe Gobe prod...</td>\n",
       "      <td>0</td>\n",
       "    </tr>\n",
       "  </tbody>\n",
       "</table>\n",
       "</div>"
      ],
      "text/plain": [
       "                                                                                  MESSAGE  \\\n",
       "01139.7d9591cdfb9b77906c4bbb7373cac8c5  Once upon a time, Brian wrote :\\n\\n\\n\\n>     A...   \n",
       "00350.e738a16c1483dfda97d5862b4a9a77f8  \\n\\n\"John P. Looney\" <valen@tuatha.org> a écri...   \n",
       "00478.e7beb5a43fcf1ac2a87b4ce4fdcd9b32  I missed this previously, but\\n\\nthe Gobe prod...   \n",
       "\n",
       "                                        CATEGORY  \n",
       "01139.7d9591cdfb9b77906c4bbb7373cac8c5         0  \n",
       "00350.e738a16c1483dfda97d5862b4a9a77f8         0  \n",
       "00478.e7beb5a43fcf1ac2a87b4ce4fdcd9b32         0  "
      ]
     },
     "execution_count": 12,
     "metadata": {},
     "output_type": "execute_result"
    }
   ],
   "source": [
    "data.drop(['cmds'], inplace=True)\n",
    "\n",
    "data[4608:4611]"
   ]
  },
  {
   "cell_type": "markdown",
   "id": "1ecaca5d",
   "metadata": {},
   "source": [
    "## Adding documnet IDs."
   ]
  },
  {
   "cell_type": "code",
   "execution_count": 13,
   "id": "7128b757",
   "metadata": {},
   "outputs": [],
   "source": [
    "document_ids = range(0, len(data.index))\n",
    "data['DOC_ID'] = document_ids"
   ]
  },
  {
   "cell_type": "code",
   "execution_count": 15,
   "id": "83d63fab",
   "metadata": {},
   "outputs": [
    {
     "data": {
      "text/html": [
       "<div>\n",
       "<style scoped>\n",
       "    .dataframe tbody tr th:only-of-type {\n",
       "        vertical-align: middle;\n",
       "    }\n",
       "\n",
       "    .dataframe tbody tr th {\n",
       "        vertical-align: top;\n",
       "    }\n",
       "\n",
       "    .dataframe thead th {\n",
       "        text-align: right;\n",
       "    }\n",
       "</style>\n",
       "<table border=\"1\" class=\"dataframe\">\n",
       "  <thead>\n",
       "    <tr style=\"text-align: right;\">\n",
       "      <th></th>\n",
       "      <th>MESSAGE</th>\n",
       "      <th>CATEGORY</th>\n",
       "      <th>FILE_NAME</th>\n",
       "    </tr>\n",
       "    <tr>\n",
       "      <th>DOC_ID</th>\n",
       "      <th></th>\n",
       "      <th></th>\n",
       "      <th></th>\n",
       "    </tr>\n",
       "  </thead>\n",
       "  <tbody>\n",
       "    <tr>\n",
       "      <th>0</th>\n",
       "      <td>Hello\\n\\n\\n\\nYou may have seen this business b...</td>\n",
       "      <td>1</td>\n",
       "      <td>00422.7d5baf3fe64de8647b41aeb820ada876</td>\n",
       "    </tr>\n",
       "    <tr>\n",
       "      <th>1</th>\n",
       "      <td>FROM: KONE BAKAR\\n\\nTEL: (+225) 0771 1719.  \\n...</td>\n",
       "      <td>1</td>\n",
       "      <td>00432.40ceb2dcb26e292ea6fd8669dfc9b4c5</td>\n",
       "    </tr>\n",
       "    <tr>\n",
       "      <th>2</th>\n",
       "      <td>There is NO stumbling on to it! \\n\\n\\n\\nThe gr...</td>\n",
       "      <td>1</td>\n",
       "      <td>00253.83b95b05e275286eddcf557ea581e754</td>\n",
       "    </tr>\n",
       "    <tr>\n",
       "      <th>3</th>\n",
       "      <td>This is a multi-part message in MIME format.\\n...</td>\n",
       "      <td>1</td>\n",
       "      <td>00454.1bb460b3ade9801644e4eb60e18d1f8d</td>\n",
       "    </tr>\n",
       "    <tr>\n",
       "      <th>4</th>\n",
       "      <td>CENTRAL BANK OF NIGERIA\\n\\nFOREIGN REMITTANCE ...</td>\n",
       "      <td>1</td>\n",
       "      <td>00021.effe1449462a9d7ad7af0f1c94b1a237</td>\n",
       "    </tr>\n",
       "  </tbody>\n",
       "</table>\n",
       "</div>"
      ],
      "text/plain": [
       "                                                  MESSAGE  CATEGORY  \\\n",
       "DOC_ID                                                                \n",
       "0       Hello\\n\\n\\n\\nYou may have seen this business b...         1   \n",
       "1       FROM: KONE BAKAR\\n\\nTEL: (+225) 0771 1719.  \\n...         1   \n",
       "2       There is NO stumbling on to it! \\n\\n\\n\\nThe gr...         1   \n",
       "3       This is a multi-part message in MIME format.\\n...         1   \n",
       "4       CENTRAL BANK OF NIGERIA\\n\\nFOREIGN REMITTANCE ...         1   \n",
       "\n",
       "                                     FILE_NAME  \n",
       "DOC_ID                                          \n",
       "0       00422.7d5baf3fe64de8647b41aeb820ada876  \n",
       "1       00432.40ceb2dcb26e292ea6fd8669dfc9b4c5  \n",
       "2       00253.83b95b05e275286eddcf557ea581e754  \n",
       "3       00454.1bb460b3ade9801644e4eb60e18d1f8d  \n",
       "4       00021.effe1449462a9d7ad7af0f1c94b1a237  "
      ]
     },
     "execution_count": 15,
     "metadata": {},
     "output_type": "execute_result"
    }
   ],
   "source": [
    "data['FILE_NAME'] = data.index\n",
    "data.set_index('DOC_ID', inplace=True)\n",
    "data.head()"
   ]
  },
  {
   "cell_type": "markdown",
   "id": "05a3fe23",
   "metadata": {},
   "source": [
    "## Saving Dataframe into a json"
   ]
  },
  {
   "cell_type": "code",
   "execution_count": 16,
   "id": "cd061577",
   "metadata": {},
   "outputs": [],
   "source": [
    "data.to_json(DATA_JSON_FILE)"
   ]
  },
  {
   "cell_type": "markdown",
   "id": "edc35021",
   "metadata": {},
   "source": [
    "# Data visualisation in matplotlib\n",
    "\n",
    "## View no of ham and spam email"
   ]
  },
  {
   "cell_type": "code",
   "execution_count": 17,
   "id": "cde97ea0",
   "metadata": {},
   "outputs": [
    {
     "data": {
      "text/plain": [
       "0    3900\n",
       "1    1896\n",
       "Name: CATEGORY, dtype: int64"
      ]
     },
     "execution_count": 17,
     "metadata": {},
     "output_type": "execute_result"
    }
   ],
   "source": [
    "data.CATEGORY.value_counts()"
   ]
  },
  {
   "cell_type": "code",
   "execution_count": 18,
   "id": "d7e1cc11",
   "metadata": {},
   "outputs": [],
   "source": [
    "number_of_ham = data.CATEGORY.value_counts()[0]\n",
    "number_of_spam = data.CATEGORY.value_counts()[1]"
   ]
  },
  {
   "cell_type": "code",
   "execution_count": 21,
   "id": "3ae93d6f",
   "metadata": {},
   "outputs": [
    {
     "data": {
      "image/png": "[encoded data removed]",
      "text/plain": [
       "<Figure size 454x454 with 1 Axes>"
      ]
     },
     "metadata": {},
     "output_type": "display_data"
    }
   ],
   "source": [
    "category_names = ['Spam', 'Legit Mail']\n",
    "sizes = [number_of_spam, number_of_ham]\n",
    "\n",
    "plt.figure(figsize=(2, 2), dpi=227)\n",
    "plt.pie(sizes, labels=category_names, textprops={'fontsize': 6}, startangle=90, \n",
    "       autopct=\"%1.0f%%\")\n",
    "plt.show()"
   ]
  },
  {
   "cell_type": "code",
   "execution_count": 22,
   "id": "a5febca2",
   "metadata": {},
   "outputs": [
    {
     "data": {
      "image/png": "[encoded data removed]",
      "text/plain": [
       "<Figure size 454x454 with 1 Axes>"
      ]
     },
     "metadata": {},
     "output_type": "display_data"
    }
   ],
   "source": [
    "custom_colours = ['#ff7675', '#74b9ff']\n",
    "\n",
    "plt.figure(figsize=(2, 2), dpi=227)\n",
    "plt.pie(sizes, labels=category_names, textprops={'fontsize': 6}, startangle=90, \n",
    "       autopct='%1.0f%%', colors=custom_colours, explode=[0, 0.1])\n",
    "plt.show()"
   ]
  },
  {
   "cell_type": "code",
   "execution_count": 23,
   "id": "a0267661",
   "metadata": {},
   "outputs": [
    {
     "data": {
      "image/png": "[encoded data removed]",
      "text/plain": [
       "<Figure size 454x454 with 1 Axes>"
      ]
     },
     "metadata": {},
     "output_type": "display_data"
    }
   ],
   "source": [
    "plt.figure(figsize=(2, 2), dpi=227)\n",
    "plt.pie(sizes, labels=category_names, textprops={'fontsize': 6}, startangle=90, \n",
    "       autopct='%1.0f%%', colors=custom_colours, pctdistance=0.8)\n",
    "\n",
    "# draw circle\n",
    "centre_circle = plt.Circle((0, 0), radius=0.6, fc='white')\n",
    "plt.gca().add_artist(centre_circle)\n",
    "\n",
    "plt.show()"
   ]
  },
  {
   "cell_type": "markdown",
   "id": "4df15dd2",
   "metadata": {},
   "source": [
    "# NLP (Natural Language Proccessing)"
   ]
  },
  {
   "cell_type": "markdown",
   "id": "dc05617a",
   "metadata": {},
   "source": [
    "## Downloading important NLTK Resources (Tokenizer and Stopwords)"
   ]
  },
  {
   "cell_type": "code",
   "execution_count": 26,
   "id": "75b1cc70",
   "metadata": {},
   "outputs": [
    {
     "name": "stderr",
     "output_type": "stream",
     "text": [
      "[nltk_data] Downloading package punkt to /home/suyash/nltk_data...\n",
      "[nltk_data]   Unzipping tokenizers/punkt.zip.\n"
     ]
    },
    {
     "data": {
      "text/plain": [
       "True"
      ]
     },
     "execution_count": 26,
     "metadata": {},
     "output_type": "execute_result"
    }
   ],
   "source": [
    "nltk.download('punkt')\n",
    "# nltk.download('stopwords')\n",
    "# nltk.download('gutenberg')\n",
    "# nltk.download('shakespeare')"
   ]
  },
  {
   "cell_type": "markdown",
   "id": "4d36a5a2",
   "metadata": {},
   "source": [
    "## Email Proccessing renoving stopwords,  stemming and removing html tags."
   ]
  },
  {
   "cell_type": "code",
   "execution_count": 31,
   "id": "df4b6265",
   "metadata": {},
   "outputs": [],
   "source": [
    "def clean_msg_no_html(message, stemmer=PorterStemmer(), \n",
    "                 stop_words=set(stopwords.words('english'))):\n",
    "    \n",
    "    # Converts to Lower Case and splits up the words\n",
    "    words = word_tokenize(message.lower())\n",
    "    \n",
    "    filtered_words = []\n",
    "    # Remove HTML tags\n",
    "    soup = BeautifulSoup(message, 'html.parser')\n",
    "    cleaned_text = soup.get_text()\n",
    "    \n",
    "    # Converts to Lower Case and splits up the words\n",
    "    words = word_tokenize(cleaned_text.lower())\n",
    "\n",
    "    for word in words:\n",
    "        # Removes the stop words and punctuation\n",
    "        if word not in stop_words and word.isalpha():\n",
    "            filtered_words.append(stemmer.stem(word))\n",
    "    \n",
    "    return filtered_words"
   ]
  },
  {
   "cell_type": "code",
   "execution_count": 32,
   "id": "822131b4",
   "metadata": {},
   "outputs": [
    {
     "data": {
      "text/plain": [
       "['stumbl',\n",
       " 'greatest',\n",
       " 'way',\n",
       " 'market',\n",
       " 'centuri',\n",
       " 'undoubtedli',\n",
       " 'direct',\n",
       " 'similar',\n",
       " 'postman',\n",
       " 'deliv',\n",
       " 'letter',\n",
       " 'mailbox',\n",
       " 'abil',\n",
       " 'promot',\n",
       " 'product',\n",
       " 'servic',\n",
       " 'websit',\n",
       " 'market',\n",
       " 'opportun',\n",
       " 'million',\n",
       " 'instantli',\n",
       " 'advertis',\n",
       " 'dream',\n",
       " 'year',\n",
       " 'promot',\n",
       " 'list',\n",
       " 'address',\n",
       " 'greatest',\n",
       " 'part',\n",
       " 'complet',\n",
       " 'afford',\n",
       " 'market',\n",
       " 'answer',\n",
       " 'know',\n",
       " 'know',\n",
       " 'exactli',\n",
       " 'proven',\n",
       " 'fact',\n",
       " 'attract',\n",
       " 'new',\n",
       " 'busi',\n",
       " 'direct',\n",
       " 'market',\n",
       " 'profit',\n",
       " 'advertis',\n",
       " 'gener',\n",
       " 'amaz',\n",
       " 'live',\n",
       " 'proof',\n",
       " 'direct',\n",
       " 'internet',\n",
       " 'advertis',\n",
       " 'compani',\n",
       " 'client',\n",
       " 'pay',\n",
       " 'us',\n",
       " 'thousand',\n",
       " 'dollar',\n",
       " 'week',\n",
       " 'product',\n",
       " 'servic',\n",
       " 'standard',\n",
       " 'price',\n",
       " 'procedur',\n",
       " 'extract',\n",
       " 'list',\n",
       " 'gener',\n",
       " 'internet',\n",
       " 'address',\n",
       " 'actual',\n",
       " 'extract',\n",
       " 'popular',\n",
       " 'web',\n",
       " 'site',\n",
       " 'internet',\n",
       " 'address',\n",
       " 'verifi',\n",
       " 'run',\n",
       " 'purif',\n",
       " 'process',\n",
       " 'process',\n",
       " 'includ',\n",
       " 'address',\n",
       " 'run',\n",
       " 'custom',\n",
       " 'remov',\n",
       " 'filter',\n",
       " 'keyword',\n",
       " 'well',\n",
       " 'remov',\n",
       " 'flamer',\n",
       " 'list',\n",
       " 'edu',\n",
       " 'org',\n",
       " 'gov',\n",
       " 'mil',\n",
       " 'us',\n",
       " 'domain',\n",
       " 'remov',\n",
       " 'well',\n",
       " 'domain',\n",
       " 'ask',\n",
       " 'receiv',\n",
       " 'evalu',\n",
       " 'option',\n",
       " 'one',\n",
       " 'market',\n",
       " 'specialist',\n",
       " 'evalu',\n",
       " 'sale',\n",
       " 'letter',\n",
       " 'offer',\n",
       " 'expertis',\n",
       " 'make',\n",
       " 'success',\n",
       " 'standard',\n",
       " 'price',\n",
       " 'email',\n",
       " 'deliv',\n",
       " 'per',\n",
       " 'per',\n",
       " 'per',\n",
       " 'million',\n",
       " 'per',\n",
       " 'special',\n",
       " 'limit',\n",
       " 'time',\n",
       " 'offer',\n",
       " 'introductori',\n",
       " 'offer',\n",
       " 'includ',\n",
       " 'fee',\n",
       " 'evalu',\n",
       " 'sale',\n",
       " 'letter',\n",
       " 'deliv',\n",
       " 'payment',\n",
       " 'polici',\n",
       " 'servic',\n",
       " 'must',\n",
       " 'paid',\n",
       " 'full',\n",
       " 'prior',\n",
       " 'deliveri',\n",
       " 'advertis',\n",
       " 'notic',\n",
       " 'absolut',\n",
       " 'threaten',\n",
       " 'question',\n",
       " 'materi',\n",
       " 'seriou',\n",
       " 'direct',\n",
       " 'email',\n",
       " 'market',\n",
       " 'send',\n",
       " 'follow',\n",
       " 'fax',\n",
       " 'pleas',\n",
       " 'fill',\n",
       " 'form',\n",
       " 'complet',\n",
       " 'contact',\n",
       " 'name',\n",
       " 'busi',\n",
       " 'name',\n",
       " 'year',\n",
       " 'busi',\n",
       " 'busi',\n",
       " 'type',\n",
       " 'address',\n",
       " 'citi',\n",
       " 'state',\n",
       " 'zip',\n",
       " 'countri',\n",
       " 'email',\n",
       " 'address',\n",
       " 'phone',\n",
       " 'fax',\n",
       " 'get',\n",
       " 'email',\n",
       " 'databas',\n",
       " 'send',\n",
       " 'email']"
      ]
     },
     "execution_count": 32,
     "metadata": {},
     "output_type": "execute_result"
    }
   ],
   "source": [
    "clean_msg_no_html(data.at[2, 'MESSAGE'])"
   ]
  },
  {
   "cell_type": "code",
   "execution_count": 33,
   "id": "ddf384be",
   "metadata": {},
   "outputs": [
    {
     "name": "stderr",
     "output_type": "stream",
     "text": [
      "/home/suyash/env/lib/python3.8/site-packages/bs4/__init__.py:431: MarkupResemblesLocatorWarning: \"http://www.post-gazette.com/columnists/20020905brian5\n",
      "\" looks like a URL. Beautiful Soup is not an HTTP client. You should probably use an HTTP client like requests to get the document behind the URL, and feed that document to Beautiful Soup.\n",
      "  warnings.warn(\n"
     ]
    },
    {
     "name": "stdout",
     "output_type": "stream",
     "text": [
      "CPU times: user 2min 49s, sys: 190 ms, total: 2min 50s\n",
      "Wall time: 2min 50s\n"
     ]
    }
   ],
   "source": [
    "%%time\n",
    "\n",
    "# use apply() on all the messages in the dataframe\n",
    "nested_list = data.MESSAGE.apply(clean_msg_no_html)"
   ]
  },
  {
   "cell_type": "code",
   "execution_count": 34,
   "id": "496c139b",
   "metadata": {},
   "outputs": [
    {
     "data": {
      "text/plain": [
       "DOC_ID\n",
       "5791    [robert, elz, date, wed, aug, kind, doubt, pre...\n",
       "5792    [well, play, around, strang, wav, file, realis...\n",
       "5793    [date, thu, aug, lar, heck, quicki, shell, scr...\n",
       "5794    [partit, ambigu, term, think, know, mean, look...\n",
       "5795    [could, tri, eliv, http, pm, adrian, murphi, w...\n",
       "Name: MESSAGE, dtype: object"
      ]
     },
     "execution_count": 34,
     "metadata": {},
     "output_type": "execute_result"
    }
   ],
   "source": [
    "nested_list.tail()"
   ]
  },
  {
   "cell_type": "code",
   "execution_count": 35,
   "id": "66c45f94",
   "metadata": {},
   "outputs": [],
   "source": [
    "# indices of the two different category\n",
    "doc_ids_spam = data[data.CATEGORY == 1].index\n",
    "doc_ids_ham = data[data.CATEGORY == 0].index"
   ]
  },
  {
   "cell_type": "markdown",
   "id": "8bfd4b57",
   "metadata": {},
   "source": [
    "### Subsetting a series with a index"
   ]
  },
  {
   "cell_type": "code",
   "execution_count": 36,
   "id": "018def9c",
   "metadata": {},
   "outputs": [],
   "source": [
    "nested_list_ham = nested_list.loc[doc_ids_ham]"
   ]
  },
  {
   "cell_type": "code",
   "execution_count": 37,
   "id": "59687d6c",
   "metadata": {},
   "outputs": [],
   "source": [
    "nested_list_spam = nested_list.loc[doc_ids_spam]"
   ]
  },
  {
   "cell_type": "code",
   "execution_count": 38,
   "id": "8122fdfc",
   "metadata": {},
   "outputs": [
    {
     "data": {
      "text/plain": [
       "DOC_ID\n",
       "1896    [hi, folk, instal, updat, fail, use, instal, p...\n",
       "1897    [upon, time, lanc, wrote, fail, depend, rpm, d...\n",
       "1898    [wed, oct, jason, jason, renni, wrote, jason, ...\n",
       "1899    [interest, quot, http, thoma, jefferson, exami...\n",
       "1900    [tue, aug, jon, wrote, given, old, toshiba, ea...\n",
       "Name: MESSAGE, dtype: object"
      ]
     },
     "execution_count": 38,
     "metadata": {},
     "output_type": "execute_result"
    }
   ],
   "source": [
    "nested_list_ham.head()"
   ]
  },
  {
   "cell_type": "code",
   "execution_count": 39,
   "id": "efe0a827",
   "metadata": {},
   "outputs": [
    {
     "data": {
      "text/plain": [
       "20815"
      ]
     },
     "execution_count": 39,
     "metadata": {},
     "output_type": "execute_result"
    }
   ],
   "source": [
    "flat_list_ham = [item for sublist in nested_list_ham for item in sublist]\n",
    "normal_words = pd.Series(flat_list_ham).value_counts()\n",
    "\n",
    "normal_words.shape[0] # total number of unique words in the non-spam messages"
   ]
  },
  {
   "cell_type": "code",
   "execution_count": 40,
   "id": "6daa23d3",
   "metadata": {},
   "outputs": [
    {
     "data": {
      "text/plain": [
       "13242"
      ]
     },
     "execution_count": 40,
     "metadata": {},
     "output_type": "execute_result"
    }
   ],
   "source": [
    "flat_list_spam = [item for sublist in nested_list_spam for item in sublist]\n",
    "spammy_words = pd.Series(flat_list_spam).value_counts()\n",
    "\n",
    "spammy_words.shape[0]"
   ]
  },
  {
   "cell_type": "markdown",
   "id": "ae217589",
   "metadata": {},
   "source": [
    "## Generate Vocabulary and Dictionary"
   ]
  },
  {
   "cell_type": "code",
   "execution_count": null,
   "id": "63f44159",
   "metadata": {},
   "outputs": [
    {
     "name": "stderr",
     "output_type": "stream",
     "text": [
      "/home/suyash/env/lib/python3.8/site-packages/bs4/__init__.py:431: MarkupResemblesLocatorWarning: \"http://www.post-gazette.com/columnists/20020905brian5\n",
      "\" looks like a URL. Beautiful Soup is not an HTTP client. You should probably use an HTTP client like requests to get the document behind the URL, and feed that document to Beautiful Soup.\n",
      "  warnings.warn(\n"
     ]
    }
   ],
   "source": [
    "stemmed_nested_list = data.MESSAGE.apply(clean_msg_no_html)\n",
    "flat_stemmed_list = [item for sublist in stemmed_nested_list for item in sublist]"
   ]
  },
  {
   "cell_type": "code",
   "execution_count": null,
   "id": "066d9f93",
   "metadata": {},
   "outputs": [],
   "source": []
  }
 ],
 "metadata": {
  "kernelspec": {
   "display_name": "Python 3 (ipykernel)",
   "language": "python",
   "name": "python3"
  },
  "language_info": {
   "codemirror_mode": {
    "name": "ipython",
    "version": 3
   },
   "file_extension": ".py",
   "mimetype": "text/x-python",
   "name": "python",
   "nbconvert_exporter": "python",
   "pygments_lexer": "ipython3",
   "version": "3.8.10"
  }
 },
 "nbformat": 4,
 "nbformat_minor": 5
}
